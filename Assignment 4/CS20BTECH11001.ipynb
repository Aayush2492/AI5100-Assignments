{
 "cells": [
  {
   "cell_type": "code",
   "execution_count": 1,
   "metadata": {},
   "outputs": [
    {
     "name": "stderr",
     "output_type": "stream",
     "text": [
      "/Users/aayush/venvs/EE5606_venv/lib/python3.9/site-packages/tqdm/auto.py:21: TqdmWarning: IProgress not found. Please update jupyter and ipywidgets. See https://ipywidgets.readthedocs.io/en/stable/user_install.html\n",
      "  from .autonotebook import tqdm as notebook_tqdm\n"
     ]
    }
   ],
   "source": [
    "import torch\n",
    "import random\n",
    "from sklearn.model_selection import train_test_split\n",
    "import matplotlib.pyplot as plt\n",
    "_ = torch.manual_seed(1000)"
   ]
  },
  {
   "attachments": {},
   "cell_type": "markdown",
   "metadata": {},
   "source": [
    "### Generate dataset"
   ]
  },
  {
   "cell_type": "code",
   "execution_count": 2,
   "metadata": {},
   "outputs": [
    {
     "name": "stdout",
     "output_type": "stream",
     "text": [
      "torch.Size([5000, 12, 2])\n",
      "torch.Size([5000])\n"
     ]
    }
   ],
   "source": [
    "def generate_dataset(num_samples = 5000, min_input_size = 2, max_input_size = 12):\n",
    "\n",
    "    \"\"\"\n",
    "    Returns (X, y)\n",
    "    X: a torch tensor of size num_samples X input_size X 2\n",
    "    X[i] is a tensor of size input_size X 2 where input_size is a random number between min_input_size and max_input_size\n",
    "    X[i][j] is a random vector of size 2\n",
    "    X[i][j][0] is a random number between 0 and 1\n",
    "    X[i][j][1] is a random number is either 0 or 1 and there can be exactly two 1s\n",
    "\n",
    "    y: a torch tensor of size num_samples X 1\n",
    "    y[i] is the sum of all the numbers in X[i][j][0] (for all j) where X[i][j][1] is 1\n",
    "    \"\"\"\n",
    "\n",
    "    if min_input_size > max_input_size:\n",
    "        print(\"min_input_size should be less than max_input_size, setting them to be equal\")\n",
    "        min_input_size = max_input_size\n",
    "\n",
    "    if min_input_size < 2:\n",
    "        print(\"min_input_size should be at least 2, setting it to 2\")\n",
    "        min_input_size = 2\n",
    "\n",
    "    X = torch.zeros(num_samples, max_input_size, 2)\n",
    "    for i in range(num_samples):\n",
    "        input_size = random.randint(min_input_size, max_input_size)\n",
    "        X[i, :input_size, 0] = torch.rand(input_size)\n",
    "        X[i, :input_size, 1] = torch.zeros(input_size)\n",
    "        two_random_indices = random.sample(range(input_size), 2)\n",
    "        X[i, two_random_indices, 1] = 1\n",
    "\n",
    "    return X, torch.sum(X[:, :, 0] * X[:, :, 1], dim = 1)\n",
    "\n",
    "X, y = generate_dataset()\n",
    "print(X.shape)\n",
    "print(y.shape)\n",
    "\n",
    "X_train, X_test, y_train, y_test = train_test_split(X, y, test_size = 0.2, random_state = 420)"
   ]
  },
  {
   "cell_type": "code",
   "execution_count": 3,
   "metadata": {},
   "outputs": [
    {
     "name": "stdout",
     "output_type": "stream",
     "text": [
      "torch.Size([4000, 12, 2])\n",
      "torch.Size([4000])\n",
      "torch.Size([1000, 12, 2])\n",
      "torch.Size([1000])\n"
     ]
    }
   ],
   "source": [
    "print(X_train.shape)\n",
    "print(y_train.shape)\n",
    "print(X_test.shape)\n",
    "print(y_test.shape)\n",
    "# print(X_train[0:4])\n",
    "# print(y_train[0:4])"
   ]
  },
  {
   "attachments": {},
   "cell_type": "markdown",
   "metadata": {},
   "source": [
    "### Helper Functions"
   ]
  },
  {
   "cell_type": "code",
   "execution_count": 4,
   "metadata": {},
   "outputs": [],
   "source": [
    "def loss_fn(output, target):\n",
    "  return torch.sum(torch.square(output - target))"
   ]
  },
  {
   "attachments": {},
   "cell_type": "markdown",
   "metadata": {},
   "source": [
    "### Elmon RNN Model"
   ]
  },
  {
   "cell_type": "code",
   "execution_count": 5,
   "metadata": {},
   "outputs": [],
   "source": [
    "class ElmonRNN(torch.nn.Module):\n",
    "    def __init__(self, input_size, hidden_size, output_size):\n",
    "        super(ElmonRNN, self).__init__()\n",
    "        self.hidden_size = hidden_size\n",
    "        self.output_size = output_size\n",
    "\n",
    "        self.wxh = torch.nn.Linear(input_size, hidden_size, bias=True)\n",
    "        self.whh = torch.nn.Linear(hidden_size, hidden_size, bias=True)\n",
    "        self.why = torch.nn.Linear(hidden_size, output_size, bias=True)\n",
    "        \n",
    "    def forward(self, input, hidden):\n",
    "        '''\n",
    "        input: tensor of shape (self.input_size, )\n",
    "        hidden: tensor of shape (self.hidden_size, )\n",
    "        \n",
    "        output: tensor of shape (self.output_size, )\n",
    "        '''\n",
    "        hidden = torch.tanh(self.whh(hidden) + self.wxh(input))\n",
    "        assert hidden.shape == (self.hidden_size, ) \n",
    "\n",
    "        output = self.why(hidden)\n",
    "        assert output.shape == (self.output_size, )\n",
    "\n",
    "        return output, hidden"
   ]
  },
  {
   "attachments": {},
   "cell_type": "markdown",
   "metadata": {},
   "source": [
    "#### Setting up hyperparaters & running the ElmonRNN model"
   ]
  },
  {
   "cell_type": "code",
   "execution_count": 6,
   "metadata": {},
   "outputs": [
    {
     "name": "stdout",
     "output_type": "stream",
     "text": [
      "Epoch: 1/10 :: Average Training Loss: 0.1871954718057877, Average Testing Loss: 0.17365228270314237\n",
      "Epoch: 2/10 :: Average Training Loss: 0.17057684474046725, Average Testing Loss: 0.17406426243776837\n",
      "Epoch: 3/10 :: Average Training Loss: 0.16908103774076647, Average Testing Loss: 0.17436943101852653\n",
      "Epoch: 4/10 :: Average Training Loss: 0.16875064065169681, Average Testing Loss: 0.17399123324398372\n",
      "Epoch: 5/10 :: Average Training Loss: 0.155155932289867, Average Testing Loss: 0.15464915238518978\n",
      "Epoch: 6/10 :: Average Training Loss: 0.05578418635316459, Average Testing Loss: 0.020814991429901824\n",
      "Epoch: 7/10 :: Average Training Loss: 0.01933420873178768, Average Testing Loss: 0.03413307036117202\n",
      "Epoch: 8/10 :: Average Training Loss: 0.014233391207814645, Average Testing Loss: 0.010537621902837739\n",
      "Epoch: 9/10 :: Average Training Loss: 0.01178669723810474, Average Testing Loss: 0.008077244054892475\n",
      "Epoch: 10/10 :: Average Training Loss: 0.0104077450155707, Average Testing Loss: 0.007602035497132433\n"
     ]
    }
   ],
   "source": [
    "n_hidden = 10\n",
    "model = ElmonRNN(input_size = 2, hidden_size = n_hidden, output_size = 1)\n",
    "n_epochs = 10\n",
    "learning_rate = 0.001\n",
    "\n",
    "training_losses = []\n",
    "testing_losses = []\n",
    "\n",
    "# criterion = torch.nn.MSELoss()\n",
    "optimizer = torch.optim.Adam(model.parameters(), lr=learning_rate)\n",
    "\n",
    "for epoch in range(n_epochs):\n",
    "    indices = torch.randperm(X_train.shape[0])\n",
    "    X_train, y_train = X_train[indices], y_train[indices]\n",
    "    \n",
    "    train_epoch_loss = 0\n",
    "\n",
    "    model.train()\n",
    "    for index, input in enumerate(X_train):\n",
    "        \n",
    "        hidden = torch.zeros(size=(model.hidden_size, ), dtype=torch.float)\n",
    "        for xt in input:\n",
    "            assert xt.shape == (2, )\n",
    "            output, hidden = model(xt, hidden)\n",
    "            assert output.shape == (1, )\n",
    "            assert hidden.shape == (model.hidden_size, )\n",
    "        \n",
    "        # loss = criterion(output, y[index].unsqueeze(0))\n",
    "        loss = loss_fn(output, y_train[index].unsqueeze(0))\n",
    "        train_epoch_loss += loss.item()\n",
    "        optimizer.zero_grad()\n",
    "        loss.backward()\n",
    "        optimizer.step()\n",
    "\n",
    "    test_epoch_loss = 0\n",
    "\n",
    "    model.eval()\n",
    "    with torch.no_grad():\n",
    "        for index, x in enumerate(X_test):\n",
    "            hidden = torch.zeros(size=(model.hidden_size, ), dtype=torch.float)\n",
    "            for xt in x: \n",
    "                assert xt.shape == (2, )\n",
    "                output, hidden = model(xt, hidden)\n",
    "                assert output.shape == (1, )\n",
    "                assert hidden.shape == (model.hidden_size, )\n",
    "\n",
    "            # loss = criterion(output, y_test[index].unsqueeze(0))\n",
    "            loss = loss_fn(output, y_test[index].unsqueeze(0))\n",
    "            test_epoch_loss += loss.item()\n",
    "\n",
    "    training_losses.append(train_epoch_loss / X_train.shape[0])\n",
    "    testing_losses.append(test_epoch_loss / X_test.shape[0])\n",
    "\n",
    "    print(f\"Epoch: {epoch + 1}/{n_epochs} :: Average Training Loss: {train_epoch_loss / X_train.shape[0]}, Average Testing Loss: {test_epoch_loss / X_test.shape[0]}\")\n",
    "\n",
    "elmon_loss = testing_losses[-1]"
   ]
  },
  {
   "attachments": {},
   "cell_type": "markdown",
   "metadata": {},
   "source": [
    "#### Plotting loss vs epochs"
   ]
  },
  {
   "cell_type": "code",
   "execution_count": 7,
   "metadata": {},
   "outputs": [
    {
     "data": {
      "image/png": "[encoded data removed]",
      "text/plain": [
       "<Figure size 432x288 with 1 Axes>"
      ]
     },
     "metadata": {
      "needs_background": "light"
     },
     "output_type": "display_data"
    }
   ],
   "source": [
    "plt.plot(training_losses, label = \"Average Training Loss\", color = \"red\", linestyle = \"dashed\", marker = \"o\")\n",
    "plt.plot(testing_losses, label = \"Average Testing Loss\", color = \"green\", linestyle = \"dashed\", marker = \"o\")\n",
    "plt.xlabel(\"Epoch\")\n",
    "plt.ylabel(\"Loss\")\n",
    "plt.title(\"ElmonRNN\")\n",
    "plt.legend()\n",
    "plt.show()"
   ]
  },
  {
   "attachments": {},
   "cell_type": "markdown",
   "metadata": {},
   "source": [
    "### LSTM Model"
   ]
  },
  {
   "cell_type": "code",
   "execution_count": 8,
   "metadata": {},
   "outputs": [],
   "source": [
    "class LSTM(torch.nn.Module):\n",
    "    def __init__(self, input_size, hidden_size, output_size):\n",
    "        super(LSTM, self).__init__()\n",
    "        self.hidden_size = hidden_size\n",
    "        self.output_size = output_size\n",
    "\n",
    "        self.wi = torch.nn.Linear(input_size + hidden_size, hidden_size, bias=True)\n",
    "        self.wf = torch.nn.Linear(input_size + hidden_size, hidden_size, bias=True)\n",
    "        self.wo = torch.nn.Linear(input_size + hidden_size, hidden_size, bias=True)\n",
    "        self.wg = torch.nn.Linear(input_size + hidden_size, hidden_size, bias=True)\n",
    "        self.why = torch.nn.Linear(hidden_size, output_size, bias=True)\n",
    "\n",
    "    def forward(self, input, hidden, cell):\n",
    "        '''\n",
    "        input: tensor of shape (self.input_size, )\n",
    "        hidden: tensor of shape (self.hidden_size, )\n",
    "        cell: tensor of shape (self.hidden_size, )\n",
    "        \n",
    "        output: tensor of shape (self.output_size, )\n",
    "        '''\n",
    "        i = torch.sigmoid(self.wi(torch.cat((input, hidden), dim=0)))\n",
    "        assert i.shape == (self.hidden_size, )\n",
    "\n",
    "        f = torch.sigmoid(self.wf(torch.cat((input, hidden), dim=0)))\n",
    "        assert f.shape == (self.hidden_size, )\n",
    "\n",
    "        o = torch.sigmoid(self.wo(torch.cat((input, hidden), dim=0)))\n",
    "        assert o.shape == (self.hidden_size, )\n",
    "\n",
    "        g = torch.tanh(self.wg(torch.cat((input, hidden), dim=0)))\n",
    "        assert g.shape == (self.hidden_size, )\n",
    "\n",
    "        cell = f * cell + i * g\n",
    "        assert cell.shape == (self.hidden_size, )\n",
    "\n",
    "        hidden = o * torch.tanh(cell)\n",
    "        assert hidden.shape == (self.hidden_size, )\n",
    "\n",
    "        output = self.why(hidden)\n",
    "\n",
    "        return output, hidden, cell"
   ]
  },
  {
   "attachments": {},
   "cell_type": "markdown",
   "metadata": {},
   "source": [
    "#### Setting up hyperparaters & running the ElmonRNN model"
   ]
  },
  {
   "cell_type": "code",
   "execution_count": 9,
   "metadata": {},
   "outputs": [
    {
     "name": "stdout",
     "output_type": "stream",
     "text": [
      "Epoch: 1/6 :: Average Training Loss: 0.09219946742259688, Average Testing Loss: 0.0018834880248203092\n",
      "Epoch: 2/6 :: Average Training Loss: 0.002338278483790105, Average Testing Loss: 0.0015900055129341411\n",
      "Epoch: 3/6 :: Average Training Loss: 0.00161054871826539, Average Testing Loss: 0.0017285166481272717\n",
      "Epoch: 4/6 :: Average Training Loss: 0.0010840472934429668, Average Testing Loss: 0.0010197420474630334\n",
      "Epoch: 5/6 :: Average Training Loss: 0.0009352891150393941, Average Testing Loss: 0.0005446413334094302\n",
      "Epoch: 6/6 :: Average Training Loss: 0.0006419182944806976, Average Testing Loss: 0.00026240501288099337\n"
     ]
    }
   ],
   "source": [
    "n_hidden = 10\n",
    "model = LSTM(input_size = 2, hidden_size = n_hidden, output_size = 1)\n",
    "n_epochs = 6\n",
    "learning_rate = 0.01\n",
    "\n",
    "training_losses = []\n",
    "testing_losses = []\n",
    "\n",
    "criterion = torch.nn.MSELoss()\n",
    "optimizer = torch.optim.Adam(model.parameters(), lr=learning_rate)\n",
    "\n",
    "for epoch in range(n_epochs):\n",
    "    indices = torch.randperm(X_train.shape[0])\n",
    "    X_train, y_train = X_train[indices], y_train[indices]\n",
    "    \n",
    "    train_epoch_loss = 0\n",
    "\n",
    "    model.train()\n",
    "    for index, input in enumerate(X_train):\n",
    "        \n",
    "        hidden = torch.zeros(size=(model.hidden_size, ), dtype=torch.float, requires_grad=True)\n",
    "        cell = torch.zeros(size=(model.hidden_size, ), dtype=torch.float, requires_grad=True)\n",
    "        for xt in input:\n",
    "            assert xt.shape == (2, )\n",
    "            output, hidden, cell = model(xt, hidden, cell)\n",
    "            assert output.shape == (1, )\n",
    "            assert hidden.shape == (model.hidden_size, )\n",
    "            assert cell.shape == (model.hidden_size, )\n",
    "\n",
    "        smtg = y_train[index].unsqueeze(0)\n",
    "        loss = criterion(output, smtg)\n",
    "        # loss = loss_fn(output, smtg)\n",
    "        train_epoch_loss += loss.item()\n",
    "        optimizer.zero_grad()\n",
    "        loss.backward()\n",
    "        optimizer.step()\n",
    "\n",
    "    test_epoch_loss = 0\n",
    "\n",
    "    model.eval()\n",
    "    with torch.no_grad():\n",
    "        for index, input in enumerate(X_test):\n",
    "            \n",
    "            hidden = torch.zeros(size=(model.hidden_size, ))\n",
    "            cell = torch.zeros(size=(model.hidden_size, ))\n",
    "            for xt in input:\n",
    "                assert xt.shape == (2, )\n",
    "                output, hidden, cell = model(xt, hidden, cell)\n",
    "                assert output.shape == (1, )\n",
    "                assert hidden.shape == (model.hidden_size, )\n",
    "                assert cell.shape == (model.hidden_size, )\n",
    "\n",
    "            smtg = y_test[index].unsqueeze(0)\n",
    "            loss = criterion(output, smtg)\n",
    "            # loss = loss_fn(output, smtg)\n",
    "            test_epoch_loss += loss.item()\n",
    "\n",
    "    training_losses.append(train_epoch_loss / X_train.shape[0])\n",
    "    testing_losses.append(test_epoch_loss / X_test.shape[0])\n",
    "\n",
    "    print(f\"Epoch: {epoch + 1}/{n_epochs} :: Average Training Loss: {train_epoch_loss / X_train.shape[0]}, Average Testing Loss: {test_epoch_loss / X_test.shape[0]}\")\n",
    "\n",
    "lstm_loss = testing_losses[-1]"
   ]
  },
  {
   "attachments": {},
   "cell_type": "markdown",
   "metadata": {},
   "source": [
    "#### Plotting loss vs epochs"
   ]
  },
  {
   "cell_type": "code",
   "execution_count": 10,
   "metadata": {},
   "outputs": [
    {
     "data": {
      "image/png": "[encoded data removed]",
      "text/plain": [
       "<Figure size 432x288 with 1 Axes>"
      ]
     },
     "metadata": {
      "needs_background": "light"
     },
     "output_type": "display_data"
    }
   ],
   "source": [
    "plt.plot(training_losses, label = \"Average Training Loss\", color = \"red\", linestyle = \"dashed\", marker = \"o\")\n",
    "plt.plot(testing_losses, label = \"Average Testing Loss\", color = \"blue\", linestyle = \"dashed\", marker = \"o\")\n",
    "plt.xlabel(\"Epoch\")\n",
    "plt.ylabel(\"Loss\")\n",
    "plt.title(\"LSTM\")\n",
    "plt.legend()\n",
    "plt.show()"
   ]
  },
  {
   "attachments": {},
   "cell_type": "markdown",
   "metadata": {},
   "source": [
    "### GRU Model"
   ]
  },
  {
   "cell_type": "code",
   "execution_count": 11,
   "metadata": {},
   "outputs": [],
   "source": [
    "class GRU(torch.nn.Module):\n",
    "    def __init__(self, input_size, hidden_size, output_size):\n",
    "        super(GRU, self).__init__()\n",
    "        self.hidden_size = hidden_size\n",
    "        self.output_size = output_size\n",
    "\n",
    "        self.wz = torch.nn.Linear(input_size + hidden_size, hidden_size, bias=True)\n",
    "        self.wr = torch.nn.Linear(input_size + hidden_size, hidden_size, bias=True)\n",
    "        self.wh = torch.nn.Linear(input_size + hidden_size, hidden_size, bias=True)\n",
    "        self.why = torch.nn.Linear(hidden_size, output_size, bias=True)\n",
    "\n",
    "    def forward(self, input, hidden):\n",
    "        '''\n",
    "        input: tensor of shape (self.input_size, )\n",
    "        hidden: tensor of shape (self.hidden_size, )\n",
    "        \n",
    "        output: tensor of shape (self.output_size, )\n",
    "        '''\n",
    "        z = torch.sigmoid(self.wz(torch.cat((input, hidden), dim=0)))\n",
    "        assert z.shape == (self.hidden_size, )\n",
    "\n",
    "        r = torch.sigmoid(self.wr(torch.cat((input, hidden), dim=0)))\n",
    "        assert r.shape == (self.hidden_size, )\n",
    "\n",
    "        h = torch.tanh(self.wh(torch.cat((input, r * hidden), dim=0)))\n",
    "        assert h.shape == (self.hidden_size, )\n",
    "\n",
    "        hidden = (1 - z) * hidden + z * h\n",
    "        assert hidden.shape == (self.hidden_size, )\n",
    "\n",
    "        output = self.why(hidden)\n",
    "\n",
    "        return output, hidden"
   ]
  },
  {
   "attachments": {},
   "cell_type": "markdown",
   "metadata": {},
   "source": [
    "#### Setting up hyperparaters & running the ElmonRNN model"
   ]
  },
  {
   "cell_type": "code",
   "execution_count": 12,
   "metadata": {},
   "outputs": [
    {
     "name": "stdout",
     "output_type": "stream",
     "text": [
      "Epoch: 1/3 :: Average Training Loss: 0.023570242242706645, Average Testing Loss: 0.0008189724347324088\n",
      "Epoch: 2/3 :: Average Training Loss: 0.0014824011228923714, Average Testing Loss: 0.00034865550802187073\n",
      "Epoch: 3/3 :: Average Training Loss: 0.0006928051354531128, Average Testing Loss: 0.00022059740697747898\n"
     ]
    }
   ],
   "source": [
    "n_hidden = 10\n",
    "model = GRU(input_size = 2, hidden_size = n_hidden, output_size = 1)\n",
    "n_epochs = 3\n",
    "learning_rate = 0.01\n",
    "\n",
    "training_losses = []\n",
    "testing_losses = []\n",
    "\n",
    "# criterion = torch.nn.MSELoss()\n",
    "optimizer = torch.optim.Adam(model.parameters(), lr=learning_rate)\n",
    "\n",
    "for epoch in range(n_epochs):\n",
    "    indices = torch.randperm(X_train.shape[0])\n",
    "    X_train, y_train = X_train[indices], y_train[indices]\n",
    "    \n",
    "    train_epoch_loss = 0\n",
    "\n",
    "    model.train()\n",
    "    for index, input in enumerate(X_train):\n",
    "        \n",
    "        hidden = torch.zeros(size=(model.hidden_size, ), dtype=torch.float, requires_grad=True)\n",
    "        for xt in input:\n",
    "            assert xt.shape == (2, )\n",
    "            output, hidden = model(xt, hidden)\n",
    "            assert output.shape == (1, )\n",
    "            assert hidden.shape == (model.hidden_size, )\n",
    "\n",
    "        # loss = criterion(output, y[index].unsqueeze(0))\n",
    "        loss = loss_fn(output, y_train[index].unsqueeze(0))\n",
    "        train_epoch_loss += loss.item()\n",
    "        optimizer.zero_grad()\n",
    "        loss.backward()\n",
    "        optimizer.step()\n",
    "\n",
    "    test_epoch_loss = 0\n",
    "\n",
    "    model.eval()\n",
    "    with torch.no_grad():\n",
    "        for index, input in enumerate(X_test):\n",
    "            \n",
    "            hidden = torch.zeros(size=(model.hidden_size, ))\n",
    "            for xt in input:\n",
    "                assert xt.shape == (2, )\n",
    "                output, hidden = model(xt, hidden)\n",
    "                assert output.shape == (1, )\n",
    "                assert hidden.shape == (model.hidden_size, )\n",
    "\n",
    "            # loss = criterion(output, y_test[index].unsqueeze(0))\n",
    "            loss = loss_fn(output, y_test[index].unsqueeze(0))\n",
    "            test_epoch_loss += loss.item()\n",
    "\n",
    "    training_losses.append(train_epoch_loss / X_train.shape[0])\n",
    "    testing_losses.append(test_epoch_loss / X_test.shape[0])\n",
    "\n",
    "    print(f\"Epoch: {epoch + 1}/{n_epochs} :: Average Training Loss: {train_epoch_loss / X_train.shape[0]}, Average Testing Loss: {test_epoch_loss / X_test.shape[0]}\")\n",
    "\n",
    "gru_loss = testing_losses[-1]"
   ]
  },
  {
   "attachments": {},
   "cell_type": "markdown",
   "metadata": {},
   "source": [
    "#### Plotting loss vs epochs"
   ]
  },
  {
   "cell_type": "code",
   "execution_count": 13,
   "metadata": {},
   "outputs": [
    {
     "data": {
      "image/png": "[encoded data removed]",
      "text/plain": [
       "<Figure size 432x288 with 1 Axes>"
      ]
     },
     "metadata": {
      "needs_background": "light"
     },
     "output_type": "display_data"
    }
   ],
   "source": [
    "plt.plot(training_losses, label = \"Average Training Loss\", color = \"red\", linestyle = \"dashed\", marker = \"o\")\n",
    "plt.plot(testing_losses, label = \"Average Testing Loss\", color = \"blue\", linestyle = \"dashed\", marker = \"o\")\n",
    "plt.xlabel(\"Epoch\")\n",
    "plt.ylabel(\"Loss\")\n",
    "plt.title(\"GRU\")\n",
    "plt.legend()\n",
    "plt.show()"
   ]
  },
  {
   "attachments": {},
   "cell_type": "markdown",
   "metadata": {},
   "source": [
    "### Baseline Model"
   ]
  },
  {
   "cell_type": "code",
   "execution_count": 14,
   "metadata": {},
   "outputs": [],
   "source": [
    "baseline_loss = 0\n",
    "for index, input in enumerate(X_test):\n",
    "    baseline_loss += loss_fn(torch.tensor([1.0]), y_test[index].unsqueeze(0)).item()\n",
    "baseline_loss /= X_test.shape[0]"
   ]
  },
  {
   "cell_type": "code",
   "execution_count": 15,
   "metadata": {},
   "outputs": [
    {
     "name": "stdout",
     "output_type": "stream",
     "text": [
      "0.007602035497132433\n"
     ]
    }
   ],
   "source": [
    "print(elmon_loss)"
   ]
  },
  {
   "attachments": {},
   "cell_type": "markdown",
   "metadata": {},
   "source": [
    "### Plotting losses on test data for different models"
   ]
  },
  {
   "cell_type": "code",
   "execution_count": 16,
   "metadata": {},
   "outputs": [
    {
     "data": {
      "image/png": "[encoded data removed]",
      "text/plain": [
       "<Figure size 432x288 with 1 Axes>"
      ]
     },
     "metadata": {
      "needs_background": "light"
     },
     "output_type": "display_data"
    }
   ],
   "source": [
    "plt.bar([\"Baseline\", \"Elmon\", \"LSTM\", \"GRU\"], [baseline_loss, elmon_loss, lstm_loss, gru_loss])\n",
    "plt.title(\"Loss Comparison\")\n",
    "plt.xlabel(\"Model\")\n",
    "plt.ylabel(\"Loss\")\n",
    "plt.show()"
   ]
  },
  {
   "cell_type": "code",
   "execution_count": 17,
   "metadata": {},
   "outputs": [
    {
     "data": {
      "image/png": "[encoded data removed]",
      "text/plain": [
       "<Figure size 432x288 with 1 Axes>"
      ]
     },
     "metadata": {
      "needs_background": "light"
     },
     "output_type": "display_data"
    }
   ],
   "source": [
    "plt.bar([\"LSTM\", \"GRU\"], [lstm_loss, gru_loss])\n",
    "plt.title(\"Loss Comparison\")\n",
    "plt.xlabel(\"Model\")\n",
    "plt.ylabel(\"Loss\")\n",
    "plt.show()"
   ]
  }
 ],
 "metadata": {
  "kernelspec": {
   "display_name": "EE5606_venv",
   "language": "python",
   "name": "python3"
  },
  "language_info": {
   "codemirror_mode": {
    "name": "ipython",
    "version": 3
   },
   "file_extension": ".py",
   "mimetype": "text/x-python",
   "name": "python",
   "nbconvert_exporter": "python",
   "pygments_lexer": "ipython3",
   "version": "3.9.16"
  },
  "orig_nbformat": 4
 },
 "nbformat": 4,
 "nbformat_minor": 2
}
